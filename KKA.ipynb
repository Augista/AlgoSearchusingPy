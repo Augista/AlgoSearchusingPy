{
  "nbformat": 4,
  "nbformat_minor": 0,
  "metadata": {
    "colab": {
      "provenance": [],
      "include_colab_link": true
    },
    "kernelspec": {
      "name": "python3",
      "display_name": "Python 3"
    },
    "language_info": {
      "name": "python"
    }
  },
  "cells": [
    {
      "cell_type": "markdown",
      "metadata": {
        "id": "view-in-github",
        "colab_type": "text"
      },
      "source": [
        "<a href=\"https://colab.research.google.com/github/Augista/AlgoSearchusingPy/blob/main/KKA.ipynb\" target=\"_parent\"><img src=\"https://colab.research.google.com/assets/colab-badge.svg\" alt=\"Open In Colab\"/></a>"
      ]
    },
    {
      "cell_type": "markdown",
      "source": [
        "### **Path/Graph**\n"
      ],
      "metadata": {
        "id": "kuIpv02TyGBz"
      }
    },
    {
      "cell_type": "code",
      "execution_count": 36,
      "metadata": {
        "id": "RSUD1rhDxw5k"
      },
      "outputs": [],
      "source": [
        "# Graph representation\n",
        "graph = {\n",
        "    'S': {'A': 6, 'B': 5, 'C': 10},\n",
        "    'A': {'S': 6, 'E': 6},\n",
        "    'B': {'S': 5, 'E': 6, 'D': 7},\n",
        "    'C': {'S': 10, 'D': 6},\n",
        "    'D': {'B': 7, 'C': 6, 'F': 6},\n",
        "    'E': {'A': 6, 'B': 6, 'F': 4},\n",
        "    'F': {'D': 6, 'E': 4, 'G': 3},\n",
        "    'G': {'F': 3}\n",
        "}\n",
        "\n",
        "# Heuristic values based on estimates to the goal 'G'\n",
        "heuristic_values = {\n",
        "    'S': 17,\n",
        "    'A': 10,\n",
        "    'B': 13,\n",
        "    'C': 4,\n",
        "    'D': 2,\n",
        "    'E': 4,\n",
        "    'F': 1,\n",
        "    'G': 0\n",
        "}\n"
      ]
    },
    {
      "cell_type": "markdown",
      "source": [
        "## **A***"
      ],
      "metadata": {
        "id": "Xvu6rPVPyw0V"
      }
    },
    {
      "cell_type": "code",
      "source": [
        "import heapq\n",
        "\n",
        "class NodeA:\n",
        "    def __init__(self, position, parent=None):\n",
        "        self.position = position\n",
        "        self.parent = parent\n",
        "        self.g = 0  # Cost from start node\n",
        "        self.h = 0  # Heuristic distance to goal node\n",
        "        self.f = 0  # Total cost\n",
        "\n",
        "    def __eq__(self, other):\n",
        "        return self.position == other.position\n",
        "\n",
        "    def __lt__(self, other):\n",
        "        return self.f < other.f  # For the priority queue\n",
        "\n",
        "# A* algorithm with improved node handling\n",
        "def a_star(graph, start, end, heuristic_values):\n",
        "    open_list = []\n",
        "    closed_list = {}\n",
        "\n",
        "    start_node = NodeA(start, None)\n",
        "    end_node = NodeA(end, None)\n",
        "\n",
        "    heapq.heappush(open_list, start_node)\n",
        "\n",
        "    steps = 0  # Step counter\n",
        "\n",
        "    while open_list:\n",
        "        current_node = heapq.heappop(open_list)\n",
        "        steps += 1\n",
        "\n",
        "        print(f\"A* Current Node: {current_node.position}, F Function: {current_node.f}\")  # Debug print\n",
        "\n",
        "        if current_node == end_node:\n",
        "            # Construct the path to return\n",
        "            path = []\n",
        "            total_cost = current_node.g  # Store the total cost before current_node becomes None\n",
        "            while current_node is not None:\n",
        "                path.append(current_node.position)\n",
        "                current_node = current_node.parent\n",
        "            return path[::-1], steps, total_cost  # Return reversed path, step count, and total cost\n",
        "\n",
        "        # Add current node to closed list\n",
        "        closed_list[current_node.position] = current_node.g\n",
        "\n",
        "        for neighbor, weight in graph[current_node.position].items():\n",
        "            new_g = current_node.g + weight  # Calculate g for the neighbor\n",
        "\n",
        "            # If the neighbor is already in the closed list with a lower g, skip it\n",
        "            if neighbor in closed_list and closed_list[neighbor] <= new_g:\n",
        "                continue\n",
        "\n",
        "            # Create a new node for the neighbor\n",
        "            new_node = NodeA(neighbor, current_node)\n",
        "            new_node.g = new_g  # Cost to reach neighbor\n",
        "            new_node.h = heuristic_values[neighbor]  # Heuristic value\n",
        "            new_node.f = new_node.g + new_node.h  # Total cost\n",
        "\n",
        "            print(f\"\\tAdding Neighbor: {neighbor}, F Function: {new_node.f}\")\n",
        "            if any(open_node for open_node in open_list if new_node == open_node and new_node.g > open_node.g):\n",
        "                continue\n",
        "\n",
        "            heapq.heappush(open_list, new_node)\n",
        "\n",
        "    return None, steps\n",
        "\n",
        "def path_cost(path, graph):\n",
        "    cost = 0\n",
        "    for i in range(len(path) - 1):\n",
        "        cost += graph[path[i]][path[i + 1]]\n",
        "    return cost\n",
        "\n",
        "start = 'S'\n",
        "end = 'G'\n",
        "\n",
        "path_a_star, steps_a_star, totalcost = a_star(graph, start, end, heuristic_values)\n",
        "print(\"A* Path found:\", path_a_star)\n",
        "print(\"A* Steps taken:\", steps_a_star)\n",
        "print(\"Total Cost\", totalcost)\n"
      ],
      "metadata": {
        "colab": {
          "base_uri": "https://localhost:8080/"
        },
        "id": "3BFUNLqUyVM8",
        "outputId": "4e140532-2919-4468-ab77-5b714379ba30"
      },
      "execution_count": 17,
      "outputs": [
        {
          "output_type": "stream",
          "name": "stdout",
          "text": [
            "A* Current Node: S, F Function: 0\n",
            "\tAdding Neighbor: A, F Function: 16\n",
            "\tAdding Neighbor: B, F Function: 18\n",
            "\tAdding Neighbor: C, F Function: 14\n",
            "A* Current Node: C, F Function: 14\n",
            "\tAdding Neighbor: D, F Function: 18\n",
            "A* Current Node: A, F Function: 16\n",
            "\tAdding Neighbor: E, F Function: 16\n",
            "A* Current Node: E, F Function: 16\n",
            "\tAdding Neighbor: B, F Function: 31\n",
            "\tAdding Neighbor: F, F Function: 17\n",
            "A* Current Node: F, F Function: 17\n",
            "\tAdding Neighbor: D, F Function: 24\n",
            "\tAdding Neighbor: G, F Function: 19\n",
            "A* Current Node: B, F Function: 18\n",
            "\tAdding Neighbor: E, F Function: 15\n",
            "\tAdding Neighbor: D, F Function: 14\n",
            "A* Current Node: D, F Function: 14\n",
            "A* Current Node: E, F Function: 15\n",
            "\tAdding Neighbor: F, F Function: 16\n",
            "A* Current Node: F, F Function: 16\n",
            "\tAdding Neighbor: G, F Function: 18\n",
            "A* Current Node: D, F Function: 18\n",
            "A* Current Node: G, F Function: 18\n",
            "A* Path found: ['S', 'B', 'E', 'F', 'G']\n",
            "A* Steps taken: 11\n",
            "Total Cost 18\n"
          ]
        }
      ]
    },
    {
      "cell_type": "markdown",
      "source": [
        "## **BestFS**"
      ],
      "metadata": {
        "id": "7-Iba8dbzGxv"
      }
    },
    {
      "cell_type": "code",
      "source": [
        "import heapq\n",
        "\n",
        "class NodeB:\n",
        "    def __init__(self, position, parent=None):\n",
        "        self.position = position  # Node name (e.g., 'S', 'A', 'B', etc.)\n",
        "        self.parent = parent\n",
        "        self.g = 0  # Cost from start node\n",
        "        self.h = 0  # Heuristic distance to goal node\n",
        "\n",
        "    def __eq__(self, other):\n",
        "        return self.position == other.position\n",
        "\n",
        "    def __lt__(self, other):\n",
        "        return self.h < other.h\n",
        "\n",
        "# Best-First Search algorithm\n",
        "def best_first_search(graph, start, end, heuristic_values):\n",
        "    open_list = []\n",
        "    closed_list = []\n",
        "\n",
        "    start_node = NodeB(start, None)\n",
        "    end_node = NodeB(end, None)\n",
        "\n",
        "    heapq.heappush(open_list, start_node)\n",
        "\n",
        "    steps = 0  # Step counter\n",
        "\n",
        "    while open_list:\n",
        "        current_node = heapq.heappop(open_list)\n",
        "        closed_list.append(current_node)\n",
        "        steps += 1  # Increment step counter\n",
        "\n",
        "        print(f\"BestFS Current Node: {current_node.position}, h\")  # Debug print\n",
        "\n",
        "        if current_node == end_node:\n",
        "            path = []\n",
        "            while current_node is not None:\n",
        "                path.append(current_node.position)\n",
        "                current_node = current_node.parent\n",
        "            totalpathcost = path_cost(path, graph)\n",
        "            return path[::-1], steps, totalpathcost  # Return reversed path and step count\n",
        "\n",
        "        for neighbor, weight in graph[current_node.position].items():\n",
        "            if neighbor in [node.position for node in closed_list]:\n",
        "                continue\n",
        "\n",
        "            new_node = NodeB(neighbor, current_node)\n",
        "            new_node.h = heuristic_values[neighbor]  # Use heuristic value\n",
        "\n",
        "            print(f\"\\tAdding Neighbor: {neighbor}, Heuristic: {new_node.h}\")  # Debug print\n",
        "\n",
        "            # Check if the neighbor is already in the open list\n",
        "            if any(open_node for open_node in open_list if new_node == open_node):\n",
        "                continue\n",
        "\n",
        "            heapq.heappush(open_list, new_node)\n",
        "\n",
        "    return None, steps  # No path found\n",
        "\n",
        "def path_cost(path, graph):\n",
        "    cost = 0\n",
        "    for i in range(len(path) - 1):\n",
        "        cost += graph[path[i]][path[i + 1]]  # Sum weights from the graph\n",
        "    return cost\n",
        "\n",
        "start = 'S'\n",
        "end = 'G'\n",
        "\n",
        "\n",
        "path_bfs, steps_bfs, totalpath_bfs = best_first_search(graph, start, end, heuristic_values)\n",
        "print(\"BFS Path found:\", path_bfs)\n",
        "print(\"BFS Steps:\", steps_bfs)\n",
        "print(\"BFS Total Path Cost:\", totalpath_bfs)\n"
      ],
      "metadata": {
        "colab": {
          "base_uri": "https://localhost:8080/"
        },
        "id": "HzUTEVOfzK0U",
        "outputId": "5bd242c4-0976-4a7d-9456-1401ed99f3d3"
      },
      "execution_count": 18,
      "outputs": [
        {
          "output_type": "stream",
          "name": "stdout",
          "text": [
            "BestFS Current Node: S, h\n",
            "\tAdding Neighbor: A, Heuristic: 10\n",
            "\tAdding Neighbor: B, Heuristic: 13\n",
            "\tAdding Neighbor: C, Heuristic: 4\n",
            "BestFS Current Node: C, h\n",
            "\tAdding Neighbor: D, Heuristic: 2\n",
            "BestFS Current Node: D, h\n",
            "\tAdding Neighbor: B, Heuristic: 13\n",
            "\tAdding Neighbor: F, Heuristic: 1\n",
            "BestFS Current Node: F, h\n",
            "\tAdding Neighbor: E, Heuristic: 4\n",
            "\tAdding Neighbor: G, Heuristic: 0\n",
            "BestFS Current Node: G, h\n",
            "BFS Path found: ['S', 'C', 'D', 'F', 'G']\n",
            "BFS Steps: 5\n",
            "BFS Total Path Cost: 25\n"
          ]
        }
      ]
    },
    {
      "cell_type": "markdown",
      "source": [
        "## **Calculating Exec Time, Memory, Steps**"
      ],
      "metadata": {
        "id": "5Hy10z7q4SHI"
      }
    },
    {
      "cell_type": "code",
      "source": [
        "import heapq\n",
        "\n",
        "class NodeA:\n",
        "    def __init__(self, position, parent=None):\n",
        "        self.position = position\n",
        "        self.parent = parent\n",
        "        self.g = 0  # Cost from start node\n",
        "        self.h = 0  # Heuristic distance to goal node\n",
        "        self.f = 0  # Total cost\n",
        "\n",
        "    def __eq__(self, other):\n",
        "        return self.position == other.position\n",
        "\n",
        "    def __lt__(self, other):\n",
        "        return self.f < other.f  # For the priority queue\n",
        "\n",
        "# A* algorithm with improved node handling\n",
        "def a_star(graph, start, end, heuristic_values):\n",
        "    open_list = []\n",
        "    closed_list = {}\n",
        "\n",
        "    start_node = NodeA(start, None)\n",
        "    end_node = NodeA(end, None)\n",
        "\n",
        "    heapq.heappush(open_list, start_node)\n",
        "\n",
        "    steps = 0  # Step counter\n",
        "\n",
        "    while open_list:\n",
        "        current_node = heapq.heappop(open_list)\n",
        "        steps += 1\n",
        "\n",
        "        print(f\"A* Current Node: {current_node.position}, F Function: {current_node.f}\")  # Debug print\n",
        "\n",
        "        if current_node == end_node:\n",
        "            # Construct the path to return\n",
        "            path = []\n",
        "            total_cost = current_node.g  # Store the total cost before current_node becomes None\n",
        "            while current_node is not None:\n",
        "                path.append(current_node.position)\n",
        "                current_node = current_node.parent\n",
        "            return path[::-1], steps, total_cost  # Return reversed path, step count, and total cost\n",
        "\n",
        "        # Add current node to closed list\n",
        "        closed_list[current_node.position] = current_node.g\n",
        "\n",
        "        for neighbor, weight in graph[current_node.position].items():\n",
        "            new_g = current_node.g + weight  # Calculate g for the neighbor\n",
        "\n",
        "            # If the neighbor is already in the closed list with a lower g, skip it\n",
        "            if neighbor in closed_list and closed_list[neighbor] <= new_g:\n",
        "                continue\n",
        "\n",
        "            # Create a new node for the neighbor\n",
        "            new_node = NodeA(neighbor, current_node)\n",
        "            new_node.g = new_g  # Cost to reach this neighbor\n",
        "            new_node.h = heuristic_values[neighbor]  # Heuristic value\n",
        "            new_node.f = new_node.g + new_node.h  # Total cost\n",
        "\n",
        "            print(f\"\\tAdding Neighbor: {neighbor}, F Function: {new_node.f}\")  # Debug print\n",
        "\n",
        "            # Check if the neighbor is in the open list with a lower g\n",
        "            if any(open_node for open_node in open_list if new_node == open_node and new_node.g > open_node.g):\n",
        "                continue\n",
        "\n",
        "            heapq.heappush(open_list, new_node)\n",
        "\n",
        "    return None, steps  # No path found\n",
        "\n",
        "def path_cost(path, graph):\n",
        "    cost = 0\n",
        "    for i in range(len(path) - 1):\n",
        "        cost += graph[path[i]][path[i + 1]]  # Sum weights from the graph.\n",
        "    return cost\n",
        "\n",
        "start = 'S'\n",
        "end = 'G'\n",
        "\n",
        "tracemalloc.start()\n",
        "start_time = time.time()\n",
        "\n",
        "path_a_star, steps_a_star, totalcost = a_star(graph, start, end, heuristic_values)\n",
        "\n",
        "end_time = time.time()\n",
        "current, peak = tracemalloc.get_traced_memory()\n",
        "\n",
        "print(\"A* Path found:\", path_a_star)\n",
        "print(\"A* Steps taken:\", steps_a_star)\n",
        "print(\"Total Cost\", totalcost)\n",
        "print(\"Execution Time (seconds):\", end_time - start_time)\n",
        "print(f\"Current Memory Usage: {current / 10**6} MB; Peak: {peak / 10**6} MB\")\n",
        "\n",
        "tracemalloc.stop()\n"
      ],
      "metadata": {
        "id": "1aaMndQMApNJ",
        "outputId": "ae6283e3-176b-47df-f957-24dbcc420051",
        "colab": {
          "base_uri": "https://localhost:8080/"
        }
      },
      "execution_count": 20,
      "outputs": [
        {
          "output_type": "stream",
          "name": "stdout",
          "text": [
            "A* Current Node: S, F Function: 0\n",
            "\tAdding Neighbor: A, F Function: 16\n",
            "\tAdding Neighbor: B, F Function: 18\n",
            "\tAdding Neighbor: C, F Function: 14\n",
            "A* Current Node: C, F Function: 14\n",
            "\tAdding Neighbor: D, F Function: 18\n",
            "A* Current Node: A, F Function: 16\n",
            "\tAdding Neighbor: E, F Function: 16\n",
            "A* Current Node: E, F Function: 16\n",
            "\tAdding Neighbor: B, F Function: 31\n",
            "\tAdding Neighbor: F, F Function: 17\n",
            "A* Current Node: F, F Function: 17\n",
            "\tAdding Neighbor: D, F Function: 24\n",
            "\tAdding Neighbor: G, F Function: 19\n",
            "A* Current Node: B, F Function: 18\n",
            "\tAdding Neighbor: E, F Function: 15\n",
            "\tAdding Neighbor: D, F Function: 14\n",
            "A* Current Node: D, F Function: 14\n",
            "A* Current Node: E, F Function: 15\n",
            "\tAdding Neighbor: F, F Function: 16\n",
            "A* Current Node: F, F Function: 16\n",
            "\tAdding Neighbor: G, F Function: 18\n",
            "A* Current Node: D, F Function: 18\n",
            "A* Current Node: G, F Function: 18\n",
            "A* Path found: ['S', 'B', 'E', 'F', 'G']\n",
            "A* Steps taken: 11\n",
            "Total Cost 18\n",
            "Execution Time (seconds): 0.0015501976013183594\n",
            "Current Memory Usage: 0.016692 MB; Peak: 0.026972 MB\n"
          ]
        }
      ]
    },
    {
      "cell_type": "code",
      "source": [
        "import heapq\n",
        "import time\n",
        "import tracemalloc\n",
        "\n",
        "class NodeB:\n",
        "    def __init__(self, position, parent=None):\n",
        "        self.position = position\n",
        "        self.parent = parent\n",
        "        self.g = 0\n",
        "        self.h = 0\n",
        "\n",
        "    def __eq__(self, other):\n",
        "        return self.position == other.position\n",
        "\n",
        "    def __lt__(self, other):\n",
        "        return self.h < other.h\n",
        "\n",
        "def best_first_search(graph, start, end, heuristic_values):\n",
        "    open_list = []\n",
        "    closed_list = []\n",
        "    start_node = NodeB(start, None)\n",
        "    end_node = NodeB(end, None)\n",
        "    heapq.heappush(open_list, start_node)\n",
        "    steps = 0\n",
        "    while open_list:\n",
        "        current_node = heapq.heappop(open_list)\n",
        "        closed_list.append(current_node)\n",
        "        steps += 1\n",
        "        if current_node == end_node:\n",
        "            path = []\n",
        "            while current_node is not None:\n",
        "                path.append(current_node.position)\n",
        "                current_node = current_node.parent\n",
        "            totalpathcost = path_cost(path, graph)\n",
        "            return path[::-1], steps, totalpathcost\n",
        "        for neighbor, weight in graph[current_node.position].items():\n",
        "            if neighbor in [node.position for node in closed_list]:\n",
        "                continue\n",
        "            new_node = NodeB(neighbor, current_node)\n",
        "            new_node.h = heuristic_values[neighbor]\n",
        "            if any(open_node for open_node in open_list if new_node == open_node):\n",
        "                continue\n",
        "            heapq.heappush(open_list, new_node)\n",
        "    return None, steps\n",
        "\n",
        "def path_cost(path, graph):\n",
        "    cost = 0\n",
        "    for i in range(len(path) - 1):\n",
        "        if path[i + 1] in graph[path[i]]:\n",
        "            cost += graph[path[i]][path[i + 1]]\n",
        "    return cost\n",
        "\n",
        "start = 'S'\n",
        "end = 'G'\n",
        "\n",
        "tracemalloc.start()\n",
        "start_time = time.time()\n",
        "\n",
        "path_bfs, steps_bfs, totalpath_bfs = best_first_search(graph, start, end, heuristic_values)\n",
        "\n",
        "end_time = time.time()\n",
        "current, peak = tracemalloc.get_traced_memory()\n",
        "\n",
        "print(\"BFS Path found:\", path_bfs)\n",
        "print(\"BFS Steps:\", steps_bfs)\n",
        "print(\"BFS Total Path Cost:\", totalpath_bfs)\n",
        "print(\"Execution Time (seconds):\", end_time - start_time)\n",
        "print(f\"Current Memory Usage: {current / 10**6} MB; Peak: {peak / 10**6} MB\")\n",
        "\n",
        "tracemalloc.stop()\n"
      ],
      "metadata": {
        "id": "a-t-x_oR4eFo",
        "outputId": "483eec7e-ad46-45be-b995-09e8e8f652f7",
        "colab": {
          "base_uri": "https://localhost:8080/"
        }
      },
      "execution_count": 19,
      "outputs": [
        {
          "output_type": "stream",
          "name": "stdout",
          "text": [
            "BFS Path found: ['S', 'C', 'D', 'F', 'G']\n",
            "BFS Steps: 5\n",
            "BFS Total Path Cost: 25\n",
            "Execution Time (seconds): 0.00026679039001464844\n",
            "Current Memory Usage: 0.316579 MB; Peak: 0.456584 MB\n"
          ]
        }
      ]
    },
    {
      "cell_type": "markdown",
      "source": [
        "# Visualize"
      ],
      "metadata": {
        "id": "aG1H08CVCRdz"
      }
    },
    {
      "cell_type": "markdown",
      "source": [
        "Visualize"
      ],
      "metadata": {
        "id": "9LUXEXKABeP0"
      }
    },
    {
      "cell_type": "code",
      "source": [
        "pip install matplotlib seaborn networkx"
      ],
      "metadata": {
        "id": "oLlgITLSBmVL",
        "outputId": "fbe00515-c8bd-412c-8fe9-1baa115d444f",
        "colab": {
          "base_uri": "https://localhost:8080/"
        }
      },
      "execution_count": 22,
      "outputs": [
        {
          "output_type": "stream",
          "name": "stdout",
          "text": [
            "Requirement already satisfied: matplotlib in /usr/local/lib/python3.10/dist-packages (3.7.1)\n",
            "Requirement already satisfied: seaborn in /usr/local/lib/python3.10/dist-packages (0.13.1)\n",
            "Requirement already satisfied: networkx in /usr/local/lib/python3.10/dist-packages (3.3)\n",
            "Requirement already satisfied: contourpy>=1.0.1 in /usr/local/lib/python3.10/dist-packages (from matplotlib) (1.3.0)\n",
            "Requirement already satisfied: cycler>=0.10 in /usr/local/lib/python3.10/dist-packages (from matplotlib) (0.12.1)\n",
            "Requirement already satisfied: fonttools>=4.22.0 in /usr/local/lib/python3.10/dist-packages (from matplotlib) (4.53.1)\n",
            "Requirement already satisfied: kiwisolver>=1.0.1 in /usr/local/lib/python3.10/dist-packages (from matplotlib) (1.4.7)\n",
            "Requirement already satisfied: numpy>=1.20 in /usr/local/lib/python3.10/dist-packages (from matplotlib) (1.26.4)\n",
            "Requirement already satisfied: packaging>=20.0 in /usr/local/lib/python3.10/dist-packages (from matplotlib) (24.1)\n",
            "Requirement already satisfied: pillow>=6.2.0 in /usr/local/lib/python3.10/dist-packages (from matplotlib) (10.4.0)\n",
            "Requirement already satisfied: pyparsing>=2.3.1 in /usr/local/lib/python3.10/dist-packages (from matplotlib) (3.1.4)\n",
            "Requirement already satisfied: python-dateutil>=2.7 in /usr/local/lib/python3.10/dist-packages (from matplotlib) (2.8.2)\n",
            "Requirement already satisfied: pandas>=1.2 in /usr/local/lib/python3.10/dist-packages (from seaborn) (2.1.4)\n",
            "Requirement already satisfied: pytz>=2020.1 in /usr/local/lib/python3.10/dist-packages (from pandas>=1.2->seaborn) (2024.2)\n",
            "Requirement already satisfied: tzdata>=2022.1 in /usr/local/lib/python3.10/dist-packages (from pandas>=1.2->seaborn) (2024.1)\n",
            "Requirement already satisfied: six>=1.5 in /usr/local/lib/python3.10/dist-packages (from python-dateutil>=2.7->matplotlib) (1.16.0)\n"
          ]
        }
      ]
    },
    {
      "cell_type": "markdown",
      "source": [
        "A* Search Visualize\n"
      ],
      "metadata": {
        "id": "UvDnbXNdDn9j"
      }
    },
    {
      "cell_type": "code",
      "source": [
        "import heapq\n",
        "import time\n",
        "import tracemalloc\n",
        "import matplotlib.pyplot as plt\n",
        "import networkx as nx\n",
        "import seaborn as sns\n",
        "\n",
        "class NodeA:\n",
        "    def __init__(self, position, parent=None):\n",
        "        self.position = position\n",
        "        self.parent = parent\n",
        "        self.g = 0\n",
        "        self.h = 0\n",
        "        self.f = 0\n",
        "\n",
        "    def __eq__(self, other):\n",
        "        return self.position == other.position\n",
        "\n",
        "    def __lt__(self, other):\n",
        "        return self.f < other.f\n",
        "\n",
        "def a_star(graph, start, end, heuristic_values):\n",
        "    open_list = []\n",
        "    closed_list = {}\n",
        "\n",
        "    start_node = NodeA(start, None)\n",
        "    end_node = NodeA(end, None)\n",
        "\n",
        "    heapq.heappush(open_list, start_node)\n",
        "\n",
        "    steps = 0\n",
        "\n",
        "    while open_list:\n",
        "        current_node = heapq.heappop(open_list)\n",
        "        steps += 1\n",
        "\n",
        "        if current_node == end_node:\n",
        "            path = []\n",
        "            total_cost = current_node.g\n",
        "            while current_node is not None:\n",
        "                path.append(current_node.position)\n",
        "                current_node = current_node.parent\n",
        "            return path[::-1], steps, total_cost\n",
        "\n",
        "        closed_list[current_node.position] = current_node.g\n",
        "\n",
        "        for neighbor, weight in graph[current_node.position].items():\n",
        "            new_g = current_node.g + weight\n",
        "\n",
        "            if neighbor in closed_list and closed_list[neighbor] <= new_g:\n",
        "                continue\n",
        "\n",
        "            new_node = NodeA(neighbor, current_node)\n",
        "            new_node.g = new_g\n",
        "            new_node.h = heuristic_values[neighbor]\n",
        "            new_node.f = new_node.g + new_node.h\n",
        "\n",
        "            if any(open_node for open_node in open_list if new_node == open_node and new_node.g > open_node.g):\n",
        "                continue\n",
        "\n",
        "            heapq.heappush(open_list, new_node)\n",
        "\n",
        "    return None, steps\n",
        "\n",
        "def visualize_path(graph, path):\n",
        "    G = nx.Graph()\n",
        "    for node in graph:\n",
        "        for neighbor, weight in graph[node].items():\n",
        "            G.add_edge(node, neighbor, weight=weight)\n",
        "\n",
        "    pos = nx.spring_layout(G)\n",
        "    plt.figure(figsize=(8, 6))\n",
        "    nx.draw(G, pos, with_labels=True, node_size=700, node_color='lightblue', font_size=10, font_weight='bold')\n",
        "\n",
        "    if path:\n",
        "        path_edges = list(zip(path[:-1], path[1:]))\n",
        "        nx.draw_networkx_edges(G, pos, edgelist=path_edges, edge_color='r', width=2)\n",
        "\n",
        "    plt.title(\"A* Path Visualization\")\n",
        "    plt.show()\n",
        "\n",
        "def plot_performance_metrics(steps, execution_time, current_memory, peak_memory):\n",
        "    metrics = ['Steps', 'Execution Time (s)', 'Current Memory (MB)', 'Peak Memory (MB)']\n",
        "    values = [steps, execution_time, current_memory / 10**6, peak_memory / 10**6]\n",
        "\n",
        "    plt.figure(figsize=(8, 5))\n",
        "    bar_plot = sns.barplot(x=metrics, y=values, palette='viridis', hue=None)\n",
        "    plt.title(\"Performance Metrics\")\n",
        "    plt.ylabel(\"Value\")\n",
        "\n",
        "    for p in bar_plot.patches:\n",
        "        bar_plot.annotate(f'{p.get_height():.7f}',\n",
        "                          (p.get_x() + p.get_width() / 2., p.get_height()),\n",
        "                          ha='center', va='bottom',\n",
        "                          fontsize=10, color='black',\n",
        "                          xytext=(0, 5),\n",
        "                          textcoords='offset points')\n",
        "\n",
        "    plt.show()\n",
        "\n",
        "start = 'S'\n",
        "end = 'G'\n",
        "\n",
        "tracemalloc.start()\n",
        "start_time = time.time()\n",
        "\n",
        "path_a_star, steps_a_star, total_cost = a_star(graph, start, end, heuristic_values)\n",
        "\n",
        "end_time = time.time()\n",
        "current_memory, peak_memory = tracemalloc.get_traced_memory()\n",
        "\n",
        "print(\"A* Path found:\", path_a_star)\n",
        "print(\"A* Steps taken:\", steps_a_star)\n",
        "print(\"Total Cost:\", total_cost)\n",
        "print(\"Execution Time (seconds):\", end_time - start_time)\n",
        "print(f\"Current Memory Usage: {current_memory / 10**6} MB; Peak: {peak_memory / 10**6} MB\")\n",
        "\n",
        "tracemalloc.stop()\n",
        "\n",
        "visualize_path(graph, path_a_star)\n",
        "plot_performance_metrics(steps_a_star, end_time - start_time, current_memory, peak_memory)\n"
      ],
      "metadata": {
        "id": "EY2l5qhDBjl3",
        "outputId": "e6b5f623-e67b-4db2-8179-7ea1cf3e5a5c",
        "colab": {
          "base_uri": "https://localhost:8080/",
          "height": 1000
        }
      },
      "execution_count": 30,
      "outputs": [
        {
          "output_type": "stream",
          "name": "stdout",
          "text": [
            "A* Path found: ['S', 'B', 'E', 'F', 'G']\n",
            "A* Steps taken: 11\n",
            "Total Cost: 18\n",
            "Execution Time (seconds): 0.0005617141723632812\n",
            "Current Memory Usage: 0.003257 MB; Peak: 0.013537 MB\n"
          ]
        },
        {
          "output_type": "display_data",
          "data": {
            "text/plain": [
              "<Figure size 800x600 with 1 Axes>"
            ],
            "image/png": "[encoded data removed]"
          },
          "metadata": {}
        },
        {
          "output_type": "stream",
          "name": "stderr",
          "text": [
            "<ipython-input-30-919eed9dbece>:87: FutureWarning: \n",
            "\n",
            "Passing `palette` without assigning `hue` is deprecated and will be removed in v0.14.0. Assign the `x` variable to `hue` and set `legend=False` for the same effect.\n",
            "\n",
            "  bar_plot = sns.barplot(x=metrics, y=values, palette='viridis', hue=None)\n"
          ]
        },
        {
          "output_type": "display_data",
          "data": {
            "text/plain": [
              "<Figure size 800x500 with 1 Axes>"
            ],
            "image/png": "[encoded data removed]"
          },
          "metadata": {}
        }
      ]
    },
    {
      "cell_type": "markdown",
      "source": [
        " BFS Visualize"
      ],
      "metadata": {
        "id": "7qk5goNwDsnS"
      }
    },
    {
      "cell_type": "code",
      "source": [
        "import heapq\n",
        "import time\n",
        "import tracemalloc\n",
        "import matplotlib.pyplot as plt\n",
        "import seaborn as sns\n",
        "import networkx as nx\n",
        "\n",
        "class NodeB:\n",
        "    def __init__(self, position, parent=None):\n",
        "        self.position = position\n",
        "        self.parent = parent\n",
        "        self.g = 0\n",
        "        self.h = 0\n",
        "\n",
        "    def __eq__(self, other):\n",
        "        return self.position == other.position\n",
        "\n",
        "    def __lt__(self, other):\n",
        "        return self.h < other.h\n",
        "\n",
        "def best_first_search(graph, start, end, heuristic_values):\n",
        "    open_list = []\n",
        "    closed_list = []\n",
        "    start_node = NodeB(start, None)\n",
        "    end_node = NodeB(end, None)\n",
        "    heapq.heappush(open_list, start_node)\n",
        "    steps = 0\n",
        "    explored_nodes = []\n",
        "\n",
        "    while open_list:\n",
        "        current_node = heapq.heappop(open_list)\n",
        "        closed_list.append(current_node)\n",
        "        explored_nodes.append(current_node.position)\n",
        "        steps += 1\n",
        "\n",
        "        if current_node == end_node:\n",
        "            path = []\n",
        "            while current_node is not None:\n",
        "                path.append(current_node.position)\n",
        "                current_node = current_node.parent\n",
        "            totalpathcost = path_cost(path, graph)\n",
        "            return path[::-1], steps, totalpathcost, explored_nodes\n",
        "\n",
        "        for neighbor, weight in graph[current_node.position].items():\n",
        "            if neighbor in [node.position for node in closed_list]:\n",
        "                continue\n",
        "\n",
        "            new_node = NodeB(neighbor, current_node)\n",
        "            new_node.h = heuristic_values[neighbor]\n",
        "\n",
        "            if any(open_node for open_node in open_list if new_node == open_node):\n",
        "                continue\n",
        "\n",
        "            heapq.heappush(open_list, new_node)\n",
        "\n",
        "    return None, steps, None, explored_nodes\n",
        "\n",
        "def path_cost(path, graph):\n",
        "    cost = 0\n",
        "    for i in range(len(path) - 1):\n",
        "        cost += graph[path[i]][path[i + 1]]\n",
        "    return cost\n",
        "\n",
        "def visualize_bfs_tree(explored_nodes, graph):\n",
        "    G = nx.Graph()\n",
        "\n",
        "    for node in explored_nodes:\n",
        "        for neighbor in graph[node]:\n",
        "            G.add_edge(node, neighbor)\n",
        "\n",
        "    pos = nx.spring_layout(G)\n",
        "    nx.draw(G, pos, with_labels=True, node_size=2000, node_color='lightblue', font_size=10, font_weight='bold')\n",
        "    plt.title('BFS Tree Visualization')\n",
        "    plt.show()\n",
        "\n",
        "def plot_performance_metrics(steps, execution_time, current_memory, peak_memory):\n",
        "    metrics = ['Steps', 'Execution Time (s)', 'Current Memory (MB)', 'Peak Memory (MB)']\n",
        "    values = [steps, execution_time, current_memory / 10**6, peak_memory / 10**6]\n",
        "\n",
        "    plt.figure(figsize=(8, 5))\n",
        "    sns.barplot(x=metrics, y=values, palette='viridis')\n",
        "    plt.title(\"Performance Metrics\")\n",
        "    plt.ylabel(\"Value\")\n",
        "\n",
        "    for i, v in enumerate(values):\n",
        "        plt.text(i, v + 0.1, f\"{v:.10f}\", ha='center')\n",
        "\n",
        "    plt.show()\n",
        "\n",
        "start = 'S'\n",
        "end = 'G'\n",
        "\n",
        "tracemalloc.start()\n",
        "start_time = time.time()\n",
        "\n",
        "path_bfs, steps_bfs, totalpath_bfs, explored_nodes = best_first_search(graph, start, end, heuristic_values)\n",
        "\n",
        "end_time = time.time()\n",
        "current, peak = tracemalloc.get_traced_memory()\n",
        "\n",
        "print(\"BFS Path found:\", path_bfs)\n",
        "print(\"BFS Steps:\", steps_bfs)\n",
        "print(\"BFS Total Path Cost:\", totalpath_bfs)\n",
        "print(\"Execution Time (seconds):\", end_time - start_time)\n",
        "print(f\"Current Memory Usage: {current / 10**6} MB; Peak: {peak / 10**6} MB\")\n",
        "\n",
        "tracemalloc.stop()\n",
        "\n",
        "visualize_bfs_tree(explored_nodes, graph)\n",
        "plot_performance_metrics(steps_bfs, end_time - start_time, current, peak)\n"
      ],
      "metadata": {
        "id": "y05MOq6HDunl",
        "outputId": "6a100d5f-6f31-4b84-fb2c-28d5ec0d0a21",
        "colab": {
          "base_uri": "https://localhost:8080/",
          "height": 1000
        }
      },
      "execution_count": 37,
      "outputs": [
        {
          "output_type": "stream",
          "name": "stdout",
          "text": [
            "BFS Path found: ['S', 'C', 'D', 'F', 'G']\n",
            "BFS Steps: 5\n",
            "BFS Total Path Cost: 25\n",
            "Execution Time (seconds): 0.000339508056640625\n",
            "Current Memory Usage: 0.007945 MB; Peak: 0.018113 MB\n"
          ]
        },
        {
          "output_type": "display_data",
          "data": {
            "text/plain": [
              "<Figure size 640x480 with 1 Axes>"
            ],
            "image/png": "[encoded data removed]"
          },
          "metadata": {}
        },
        {
          "output_type": "stream",
          "name": "stderr",
          "text": [
            "<ipython-input-37-0e44ad850e4d>:81: FutureWarning: \n",
            "\n",
            "Passing `palette` without assigning `hue` is deprecated and will be removed in v0.14.0. Assign the `x` variable to `hue` and set `legend=False` for the same effect.\n",
            "\n",
            "  sns.barplot(x=metrics, y=values, palette='viridis')\n"
          ]
        },
        {
          "output_type": "display_data",
          "data": {
            "text/plain": [
              "<Figure size 800x500 with 1 Axes>"
            ],
            "image/png": "[encoded data removed]"
          },
          "metadata": {}
        }
      ]
    }
  ]
}